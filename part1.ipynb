{
 "cells": [
  {
   "cell_type": "code",
   "execution_count": null,
   "metadata": {},
   "outputs": [],
   "source": [
    "usr_data = [\n",
    "    (31, 'Ali', 28, 'Turkey'),\n",
    "    (33, 'Sara', 30, 'Egypt'),\n",
    "    (34, 'Yasmin', 25, 'Germany'),\n",
    "    (42, 'David', 45, 'Australia'),\n",
    "    (37, 'Ayesha', 22, 'Pakistan'),\n",
    "    (35, 'Mohamed', 32, 'Morocco'),\n",
    "    (38, 'Elias', 29, 'France'),\n",
    "    (41, 'Sophia', 34, 'Italy'),\n",
    "    (43, 'Carlos', 40, 'Brazil'),\n",
    "    (39, 'Maya', 26, 'Argentina')\n",
    "]"
   ]
  },
  {
   "cell_type": "markdown",
   "metadata": {},
   "source": [
    "## Filtering Data On The Basis Of Age And Country"
   ]
  },
  {
   "cell_type": "code",
   "execution_count": null,
   "metadata": {},
   "outputs": [],
   "source": [
    "\n",
    "def filter_user(usr_data):\n",
    "    filter_usr=[];trg_country=['Canada','USA']\n",
    "    for data in usr_data:\n",
    "        usr_id,usr_name,usr_age,usr_country=data\n",
    "        if usr_age>30 and usr_country in trg_country:\n",
    "            filter_usr.append((usr_id,usr_name,usr_age,usr_country))\n",
    "    usr_names=[]\n",
    "    for filtered_data in filter_usr:\n",
    "        name=filter_usr[1]\n",
    "        usr_names.append(name)\n",
    "    return filter_usr,usr_names\n",
    "\n"
   ]
  },
  {
   "cell_type": "markdown",
   "metadata": {},
   "source": [
    "## Top 10 Oldest Users and user with duplicate names"
   ]
  },
  {
   "cell_type": "code",
   "execution_count": null,
   "metadata": {},
   "outputs": [],
   "source": [
    "def analyze_user(usr_data):\n",
    "    sorted_usr=sorted(usr_data,key=lambda x:x[2] , reverse=True)\n",
    "    top10=sorted_usr[:10]\n",
    "    countname={};duplicate_names=set()\n",
    "    for data in usr_data:\n",
    "        if data[1] in countname:\n",
    "            countname[data[1]]+=1\n",
    "            duplicate_names.add(data[1])\n",
    "        else:\n",
    "             countname[data[1]]=1\n",
    "    return top10, duplicate_names      \n",
    "\n",
    "\n"
   ]
  }
 ],
 "metadata": {
  "language_info": {
   "name": "python"
  }
 },
 "nbformat": 4,
 "nbformat_minor": 2
}
