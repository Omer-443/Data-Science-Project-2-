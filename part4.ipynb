{
 "cells": [
  {
   "cell_type": "code",
   "execution_count": 1,
   "metadata": {},
   "outputs": [],
   "source": [
    "dic = {\n",
    "    201: {'rating': 4, 'comments': 'Good value for money.'},\n",
    "    202: {'rating': 2, 'comments': 'Could be better. Disappointed with delivery.'},\n",
    "    203: {'rating': 5, 'comments': 'Amazing quality! Very satisfied.'},\n",
    "    204: {'rating': 3, 'comments': 'Average performance, not bad.'},\n",
    "    205: {'rating': 5, 'comments': 'Fantastic product, exceeded expectations!'},\n",
    "    206: {'rating': 2, 'comments': 'Not worth the price, quite unsatisfactory.'},\n",
    "    207: {'rating': 4, 'comments': 'Good, reliable service.'},\n",
    "    208: {'rating': 1, 'comments': 'Terrible experience. Won’t buy again.'},\n",
    "    209: {'rating': 3, 'comments': 'Decent product, but has room for improvement.'},\n",
    "    210: {'rating': 4, 'comments': 'Overall good experience, but delivery was late.'}\n",
    "}\n",
    "dic2 = {\n",
    "    204: {'rating': 4, 'comments': 'Improved significantly! Satisfied with the changes.'},\n",
    "    203: {'rating': 5, 'comments': 'Outstanding quality, highly recommend!'},\n",
    "    205: {'rating': 3, 'comments': 'Good product but the price is too high.'}\n",
    "}\n"
   ]
  },
  {
   "cell_type": "markdown",
   "metadata": {},
   "source": [
    "## Filtering out users who rated 4 or higher and storing their user_id and rating in a new dictionary."
   ]
  },
  {
   "cell_type": "code",
   "execution_count": null,
   "metadata": {},
   "outputs": [],
   "source": [
    "def filtertop4(dicoffeedback):\n",
    "    filtereddic={userid: detials['rating'] for userid,detials in dicoffeedback.items() if detials['rating']>=4}\n",
    "    return filtereddic   "
   ]
  },
  {
   "cell_type": "markdown",
   "metadata": {},
   "source": [
    "## sorting the dictionary of user feedback by rating in descending order and returning the top 5 users."
   ]
  },
  {
   "cell_type": "code",
   "execution_count": null,
   "metadata": {},
   "outputs": [],
   "source": [
    "def sortedfeedback(dicoffeedback):\n",
    "    sorteddic=dict(sorted(filtertop4(dicoffeedback).items() , key=lambda x:x[1] ,reverse=True))\n",
    "    return sorteddic[:5]"
   ]
  },
  {
   "cell_type": "markdown",
   "metadata": {},
   "source": [
    "## Combining feedback from multiple dictionaries and updating their rating to the highest one and appending their comments."
   ]
  },
  {
   "cell_type": "code",
   "execution_count": null,
   "metadata": {},
   "outputs": [],
   "source": [
    "def combiningfeedbackdic(*dics):\n",
    "    combinedic={}\n",
    "    for feedback_dic in dics:\n",
    "        for userid,details in feedback_dic.items():\n",
    "            if userid in combinedic:\n",
    "                combinedic[userid]['rating']=max(combinedic[userid]['rating'],details['rating'])\n",
    "                combinedic[userid]['comments'] += \" \" + details['comments'] \n",
    "            else:\n",
    "                combinedic[userid] = {'rating': details['rating'], 'comments': details['comments']}                 \n",
    "    return combinedic "
   ]
  },
  {
   "cell_type": "markdown",
   "metadata": {},
   "source": [
    "## creating a dictionary of user_id and rating for all users whose rating is greater than 3."
   ]
  },
  {
   "cell_type": "code",
   "execution_count": null,
   "metadata": {},
   "outputs": [],
   "source": [
    "def usersrating3plus(dicoffeedback):\n",
    "    threeplusrating= {userid: detials['raiting'] for userid,detials in dicoffeedback.items() if detials['rating']>=3}          \n",
    "    return threeplusrating "
   ]
  }
 ],
 "metadata": {
  "kernelspec": {
   "display_name": "Python 3",
   "language": "python",
   "name": "python3"
  },
  "language_info": {
   "codemirror_mode": {
    "name": "ipython",
    "version": 3
   },
   "file_extension": ".py",
   "mimetype": "text/x-python",
   "name": "python",
   "nbconvert_exporter": "python",
   "pygments_lexer": "ipython3",
   "version": "3.12.1"
  }
 },
 "nbformat": 4,
 "nbformat_minor": 2
}
