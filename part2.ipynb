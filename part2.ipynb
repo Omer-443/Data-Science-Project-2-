{
 "cells": [
  {
   "cell_type": "code",
   "execution_count": 1,
   "metadata": {},
   "outputs": [],
   "source": [
    "transactions = (\n",
    "    (11, 200, 45000, \"2024-02-01 09:00:00\"),\n",
    "    (12, 201, 32075, \"2024-02-01 10:30:00\"),\n",
    "    (13, 202, 16000, \"2024-03-07 03:15:00\"),\n",
    "    (14, 203, 51000, \"2024-11-20 13:25:00\"),\n",
    "    (15, 204, 23500, \"2024-02-03 15:10:00\"),\n",
    "    (16, 205, 13500, \"2024-02-04 16:45:00\"),\n",
    "    (17, 206, 36075, \"2024-02-05 17:30:00\"),\n",
    "    (18, 207, 41050, \"2024-02-06 11:20:00\"),\n",
    "    (19, 208, 18500, \"2024-02-07 12:15:00\"),\n",
    "    (20, 209, 28525, \"2024-02-08 13:45:00\")\n",
    ")\n"
   ]
  },
  {
   "cell_type": "markdown",
   "metadata": {},
   "source": [
    "# Problem Due to Inconsistent Tuple Size "
   ]
  },
  {
   "cell_type": "markdown",
   "metadata": {},
   "source": [
    "Inconsistent tuple sizes may lead to misinterpretation of data. For example, if a tuple is missing an element, you might incorrectly map the wrong element , leading to incorrect results."
   ]
  },
  {
   "cell_type": "markdown",
   "metadata": {},
   "source": [
    "## total number of unique users"
   ]
  },
  {
   "cell_type": "code",
   "execution_count": 2,
   "metadata": {},
   "outputs": [],
   "source": [
    "def unique_user(transactions):\n",
    "    unique_user_data=set()\n",
    "    for transaction in transactions:\n",
    "        user_id=transaction[1]\n",
    "        unique_user_data.append(user_id)\n",
    "    count_unique_usr=len(unique_user_data)\n",
    "    return unique_user_data,count_unique_usr\n",
    "\n"
   ]
  },
  {
   "cell_type": "markdown",
   "metadata": {},
   "source": [
    "## Finding maximum transaction"
   ]
  },
  {
   "cell_type": "code",
   "execution_count": 5,
   "metadata": {},
   "outputs": [],
   "source": [
    "def max_transaction(transactions):\n",
    "    highest_transaction=max(transactions,key=lambda x:x[2])    \n",
    "    return(highest_transaction)"
   ]
  },
  {
   "cell_type": "markdown",
   "metadata": {},
   "source": [
    "## Returning user and transaction IDs"
   ]
  },
  {
   "cell_type": "code",
   "execution_count": null,
   "metadata": {},
   "outputs": [],
   "source": [
    "def user_and_transaction(transactions):\n",
    "    transaction_ids=[];usr_ids=[]\n",
    "    for transaction in transactions:\n",
    "        transaction_id=transaction[0]\n",
    "        usr_id=transaction[1]\n",
    "        transaction_ids.append(transaction_id);usr_ids.append(usr_id)\n",
    "        return transaction_ids,usr_ids"
   ]
  },
  {
   "cell_type": "code",
   "execution_count": null,
   "metadata": {},
   "outputs": [],
   "source": []
  }
 ],
 "metadata": {
  "kernelspec": {
   "display_name": "Python 3",
   "language": "python",
   "name": "python3"
  },
  "language_info": {
   "codemirror_mode": {
    "name": "ipython",
    "version": 3
   },
   "file_extension": ".py",
   "mimetype": "text/x-python",
   "name": "python",
   "nbconvert_exporter": "python",
   "pygments_lexer": "ipython3",
   "version": "3.12.1"
  }
 },
 "nbformat": 4,
 "nbformat_minor": 2
}
