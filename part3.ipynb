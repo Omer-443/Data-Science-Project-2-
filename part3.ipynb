{
 "cells": [
  {
   "cell_type": "code",
   "execution_count": null,
   "metadata": {},
   "outputs": [],
   "source": [
    "pageA = {3, 6, 9, 12, 15, 18, 21, 24, 27, 30}\n",
    "pageB = {2, 6, 9, 14, 18, 22, 26, 30, 34, 38}\n",
    "pageC = {1, 9, 12, 18, 20, 24, 27, 31, 35, 39}\n"
   ]
  },
  {
   "cell_type": "markdown",
   "metadata": {},
   "source": [
    "## Users who visited both A and B page and the users who visited either A or C page "
   ]
  },
  {
   "cell_type": "code",
   "execution_count": null,
   "metadata": {},
   "outputs": [],
   "source": [
    "def find_user_common_different(a_page,b_page,c_page):\n",
    "    commonuser=a_page.intersection(b_page)\n",
    "    differentuser=a_page.symmetric_difference(c_page)\n",
    "    \n",
    "    return commonuser,differentuser"
   ]
  },
  {
   "cell_type": "markdown",
   "metadata": {},
   "source": [
    "## Updating set of page A for new users"
   ]
  },
  {
   "cell_type": "code",
   "execution_count": null,
   "metadata": {},
   "outputs": [],
   "source": [
    "def update_newuser(a_page,new_users):\n",
    "    a_page.update(new_users)\n",
    "    return a_page"
   ]
  },
  {
   "cell_type": "markdown",
   "metadata": {},
   "source": [
    "## Remove list of users for Page C"
   ]
  },
  {
   "cell_type": "code",
   "execution_count": null,
   "metadata": {},
   "outputs": [],
   "source": [
    "def remove_someuser(b_page,remove_users):\n",
    "    b_page.difference_update(remove_users)\n",
    "    return b_page"
   ]
  }
 ],
 "metadata": {
  "language_info": {
   "name": "python"
  }
 },
 "nbformat": 4,
 "nbformat_minor": 2
}
